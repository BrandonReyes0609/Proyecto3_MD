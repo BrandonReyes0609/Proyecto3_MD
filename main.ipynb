{
 "cells": [
  {
   "cell_type": "markdown",
   "id": "53f50889",
   "metadata": {},
   "source": [
    "# Proyecto 3\n",
    "#### Gabriela Mazariegos - 22513 \n",
    "#### Giovanni Santos - 22523\n",
    "#### Santiago Pereira - 22318\n",
    "#### Brandon Reyes - 22992"
   ]
  },
  {
   "cell_type": "markdown",
   "id": "5077edbd",
   "metadata": {},
   "source": [
    "## Semana 1 - Preparación de Datos y Análisis Inicial\n"
   ]
  },
  {
   "cell_type": "markdown",
   "id": "8ed7f211",
   "metadata": {},
   "source": [
    "## A. Propuesta inicial del proyecto \n",
    "### 1. Plantamiento del problema\n",
    "\n",
    "Este proyecto nace de la exigencia de explorar más a fondo el intrincado universo del comportamiento de los consumidores y la logística de entregas en el enérgico escenario del comercio electrónico en Brasil. En este escenario, Olist, una de las plataformas nos brinda información: más de 100,000 órdenes registradas desde 2016 hasta 2018. Estos números no son simplemente cifras, son un mosaico que muestra dinámicas vinculadas a productos, clientes, métodos de pago, localización geográfica, plazos de entrega y las valoraciones que los consumidores otorgan, transformándose en un inestimable testimonio de sus vivencias. En un contexto en el que la eficacia logística y la satisfacción del cliente se ven como el núcleo de la competitividad en el comercio electrónico, resulta esencial disponer de una estrategia de gestión logística eficaz.\n",
    "\n",
    "En un contexto en el que la eficiencia logística y la satisfacción del cliente se ven como el núcleo de la competitividad en el comercio electrónico, resulta esencial disponer de herramientas de análisis predictivo que nos faciliten no solo prever conductas, sino también potenciar cada elección que realizamos.  Por lo tanto, nos sugerimos utilizar métodos de minería de datos y aprendizaje automático para explorar este amplio volumen de información, con el objetivo de responder a cuestiones como:  ¿Qué factores influyen en la calificación que da el cliente?, ¿Qué tan confiables son los tiempos de entrega estimados?, ¿Qué categorías de productos tienden a recibir mejores evaluaciones o a experimentar retrasos?\n",
    "\n",
    "Este análisis se considera relevante no solo para fines académicos, sino también para su potencial  práctica dentro de la empresa, ya que los resultados obtenidos podrían contribuir directamente a la toma de decisiones operativas y estratégicas dentro de Olist. El reto principal radica en transformar esta gran cantidad de datos crudos en conocimiento útil que aporte valor tangible.\n",
    "\n",
    "### 2. Metodología \n",
    "Para abordar el problema planteado, se diseñó una metodología que será desarrollada a lo largo de cinco semanas, cada una con entregables y objetivos claramente definidos. En la Semana 1, se enfocará en la preparación de los datos, lo cual implica su limpieza, transformación y análisis exploratorio. Esta fase es clave porque de la calidad del preprocesamiento dependerá el éxito de los modelos de machine learning que se aplicarán posteriormente.\n",
    "\n",
    "La metodología general incluye los siguientes pasos:\n",
    "\n",
    "  1. Carga y exploración inicial del dataset: Se analizarán los archivos provistos por Olist para identificar columnas relevantes, tipos de variables y presencia de datos nulos.\n",
    "\n",
    "  2. Limpieza de datos: Se procederá a eliminar registros incompletos o irrelevantes, unificar formatos y corregir inconsistencias.\n",
    "\n",
    "  3. Análisis exploratorio de datos (EDA): Se realizarán visualizaciones y resúmenes estadísticos para comprender mejor los patrones existentes.\n",
    "\n",
    "  4. Transformación de variables: Se crearán nuevas columnas que representen mejor la información latente (por ejemplo, tiempos de entrega, año y mes de compra, codificación de categorías, etc.).\n",
    "\n",
    "  5. Modelado predictivo (regresión y clasificación): En las siguientes semanas se entrenarán modelos de regresión (como Random Forest Regressor, Ridge, Lasso) y de clasificación (como Decision Trees, SVM, Naive Bayes), según el tipo de variable objetivo.\n",
    "\n",
    "  6. Validación cruzada y redes neuronales: Se implementará validación k-fold y se probarán modelos de redes neuronales simples para evaluar mejoras en el rendimiento.\n",
    "\n",
    "  7. Análisis comparativo final: Se documentarán los resultados de cada modelo y se generarán recomendaciones para Olist, priorizando aquellas que puedan tener impacto real en sus operaciones\n",
    "\n",
    "### 3. Objetivos y Resultados esperados\n",
    "El proyecto tiene como propósito central aplicar técnicas de análisis de datos y machine learning sobre el dataset proporcionado por Olist, con el fin de obtener información estratégica que contribuya a la mejora de sus procesos internos y la experiencia del cliente. Se definen los siguientes objetivos específicos:\n",
    " - Predecir el nivel de satisfacción del cliente utilizando modelos de clasificación, basándose en variables como categoría del producto, tiempo de entrega y ubicación del cliente.\n",
    " - Analizar los factores logísticos que influyen en los tiempos de entrega, tales como distancia entre vendedor y cliente, método de pago y categoría de producto.\n",
    " - Realizar un análisis estadístico detallado, que permita justificar las decisiones técnicas adoptadas durante el desarrollo del proyecto.\n",
    "\n",
    "\n",
    "\n"
   ]
  },
  {
   "cell_type": "markdown",
   "id": "2e672346",
   "metadata": {},
   "source": [
    "## B.  Reporte EDA (40%)"
   ]
  },
  {
   "cell_type": "code",
   "execution_count": null,
   "id": "32d4784f",
   "metadata": {},
   "outputs": [],
   "source": [
    "import pandas as pd\n",
    "\n",
    "\n",
    "orders = pd.read_csv(\"csv/olist_orders_dataset.csv\")\n",
    "customers = pd.read_csv(\"csv/olist_customers_dataset.csv\")\n",
    "reviews = pd.read_csv(\"csv/olist_order_reviews_dataset.csv\")\n",
    "order_items = pd.read_csv(\"csv/olist_order_items_dataset.csv\")\n",
    "products = pd.read_csv(\"csv/olist_products_dataset.csv\")\n",
    "sellers = pd.read_csv(\"csv/olist_sellers_dataset.csv\")\n",
    "payments = pd.read_csv(\"csv/olist_order_payments_dataset.csv\")\n",
    "geolocation = pd.read_csv(\"csv/olist_geolocation_dataset.csv\")\n",
    "categories = pd.read_csv(\"csv/product_category_name_translation.csv\")"
   ]
  },
  {
   "cell_type": "markdown",
   "id": "cc334940",
   "metadata": {},
   "source": [
    "### 1. Calidad del análisis exploratorio (15%)\n"
   ]
  },
  {
   "cell_type": "code",
   "execution_count": null,
   "id": "4a572d9b",
   "metadata": {},
   "outputs": [],
   "source": [
    "orders.info()\n",
    "orders.isna().sum()\n",
    "orders.head()"
   ]
  }
 ],
 "metadata": {
  "kernelspec": {
   "display_name": "Python 3",
   "language": "python",
   "name": "python3"
  },
  "language_info": {
   "codemirror_mode": {
    "name": "ipython",
    "version": 3
   },
   "file_extension": ".py",
   "mimetype": "text/x-python",
   "name": "python",
   "nbconvert_exporter": "python",
   "pygments_lexer": "ipython3",
   "version": "3.10.10"
  }
 },
 "nbformat": 4,
 "nbformat_minor": 5
}
