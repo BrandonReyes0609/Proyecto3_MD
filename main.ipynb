{
 "cells": [
  {
   "cell_type": "markdown",
   "id": "53f50889",
   "metadata": {},
   "source": [
    "# Proyecto 3\n",
    "#### Gabriela Mazariegos - 22513 \n",
    "#### Giovanni Santos - 22523\n",
    "#### Santiago Pereira - 22318\n",
    "#### Brandon Reyes - 22992"
   ]
  },
  {
   "cell_type": "markdown",
   "id": "5077edbd",
   "metadata": {},
   "source": [
    "## Semana 1 - Preparación de Datos y Análisis Inicial\n"
   ]
  },
  {
   "cell_type": "markdown",
   "id": "8ed7f211",
   "metadata": {},
   "source": [
    "## A. Propuesta inicial del proyecto \n",
    "### 1. Plantamiento del problema\n",
    "\n",
    "Este proyecto nace de la exigencia de explorar más a fondo el intrincado universo del comportamiento de los consumidores y la logística de entregas en el enérgico escenario del comercio electrónico en Brasil. En este escenario, Olist, una de las plataformas nos brinda información: más de 100,000 órdenes registradas desde 2016 hasta 2018. Estos números no son simplemente cifras, son un mosaico que muestra dinámicas vinculadas a productos, clientes, métodos de pago, localización geográfica, plazos de entrega y las valoraciones que los consumidores otorgan, transformándose en un inestimable testimonio de sus vivencias. En un contexto en el que la eficacia logística y la satisfacción del cliente se ven como el núcleo de la competitividad en el comercio electrónico, resulta esencial disponer de una estrategia de gestión logística eficaz.\n",
    "\n",
    "En un contexto en el que la eficiencia logística y la satisfacción del cliente se ven como el núcleo de la competitividad en el comercio electrónico, resulta esencial disponer de herramientas de análisis predictivo que nos faciliten no solo prever conductas, sino también potenciar cada elección que realizamos.  Por lo tanto, nos sugerimos utilizar métodos de minería de datos y aprendizaje automático para explorar este amplio volumen de información, con el objetivo de responder a cuestiones como:  ¿Qué factores influyen en la calificación que da el cliente?, ¿Qué tan confiables son los tiempos de entrega estimados?, ¿Qué categorías de productos tienden a recibir mejores evaluaciones o a experimentar retrasos?\n",
    "\n",
    "Este análisis se considera relevante no solo para fines académicos, sino también para su potencial  práctica dentro de la empresa, ya que los resultados obtenidos podrían contribuir directamente a la toma de decisiones operativas y estratégicas dentro de Olist. El reto principal radica en transformar esta gran cantidad de datos crudos en conocimiento útil que aporte valor tangible.\n",
    "\n",
    "### 2. Metodología \n",
    "Para abordar el problema planteado, se diseñó una metodología que será desarrollada a lo largo de cinco semanas, cada una con entregables y objetivos claramente definidos. En la Semana 1, se enfocará en la preparación de los datos, lo cual implica su limpieza, transformación y análisis exploratorio. Esta fase es clave porque de la calidad del preprocesamiento dependerá el éxito de los modelos de machine learning que se aplicarán posteriormente.\n",
    "\n",
    "La metodología general incluye los siguientes pasos:\n",
    "\n",
    "  1. Carga y exploración inicial del dataset: Se analizarán los archivos provistos por Olist para identificar columnas relevantes, tipos de variables y presencia de datos nulos.\n",
    "\n",
    "  2. Limpieza de datos: Se procederá a eliminar registros incompletos o irrelevantes, unificar formatos y corregir inconsistencias.\n",
    "\n",
    "  3. Análisis exploratorio de datos (EDA): Se realizarán visualizaciones y resúmenes estadísticos para comprender mejor los patrones existentes.\n",
    "\n",
    "  4. Transformación de variables: Se crearán nuevas columnas que representen mejor la información latente (por ejemplo, tiempos de entrega, año y mes de compra, codificación de categorías, etc.).\n",
    "\n",
    "  5. Modelado predictivo (regresión y clasificación): En las siguientes semanas se entrenarán modelos de regresión (como Random Forest Regressor, Ridge, Lasso) y de clasificación (como Decision Trees, SVM, Naive Bayes), según el tipo de variable objetivo.\n",
    "\n",
    "  6. Validación cruzada y redes neuronales: Se implementará validación k-fold y se probarán modelos de redes neuronales simples para evaluar mejoras en el rendimiento.\n",
    "\n",
    "  7. Análisis comparativo final: Se documentarán los resultados de cada modelo y se generarán recomendaciones para Olist, priorizando aquellas que puedan tener impacto real en sus operaciones\n",
    "\n",
    "### 3. Objetivos y Resultados esperados\n",
    "El proyecto tiene como propósito central aplicar técnicas de análisis de datos y machine learning sobre el dataset proporcionado por Olist, con el fin de obtener información estratégica que contribuya a la mejora de sus procesos internos y la experiencia del cliente. Se definen los siguientes objetivos específicos:\n",
    " - Predecir el nivel de satisfacción del cliente utilizando modelos de clasificación, basándose en variables como categoría del producto, tiempo de entrega y ubicación del cliente.\n",
    " - Analizar los factores logísticos que influyen en los tiempos de entrega, tales como distancia entre vendedor y cliente, método de pago y categoría de producto.\n",
    " - Realizar un análisis estadístico detallado, que permita justificar las decisiones técnicas adoptadas durante el desarrollo del proyecto.\n",
    "\n",
    "\n",
    "\n"
   ]
  },
  {
   "cell_type": "markdown",
   "id": "2e672346",
   "metadata": {},
   "source": [
    "## B.  Reporte EDA (40%)"
   ]
  },
  {
   "cell_type": "code",
   "execution_count": 1,
   "id": "32d4784f",
   "metadata": {},
   "outputs": [],
   "source": [
    "import pandas as pd\n",
    "\n",
    "\n",
    "orders = pd.read_csv(\"csv/olist_orders_dataset.csv\")\n",
    "customers = pd.read_csv(\"csv/olist_customers_dataset.csv\")\n",
    "reviews = pd.read_csv(\"csv/olist_order_reviews_dataset.csv\")\n",
    "order_items = pd.read_csv(\"csv/olist_order_items_dataset.csv\")\n",
    "products = pd.read_csv(\"csv/olist_products_dataset.csv\")\n",
    "sellers = pd.read_csv(\"csv/olist_sellers_dataset.csv\")\n",
    "payments = pd.read_csv(\"csv/olist_order_payments_dataset.csv\")\n",
    "geolocation = pd.read_csv(\"csv/olist_geolocation_dataset.csv\")\n",
    "categories = pd.read_csv(\"csv/product_category_name_translation.csv\")"
   ]
  },
  {
   "cell_type": "markdown",
   "id": "cc334940",
   "metadata": {},
   "source": [
    "### 1. Calidad del análisis exploratorio (15%)\n"
   ]
  },
  {
   "cell_type": "code",
   "execution_count": 2,
   "id": "4a572d9b",
   "metadata": {},
   "outputs": [
    {
     "name": "stdout",
     "output_type": "stream",
     "text": [
      "<class 'pandas.core.frame.DataFrame'>\n",
      "RangeIndex: 99441 entries, 0 to 99440\n",
      "Data columns (total 8 columns):\n",
      " #   Column                         Non-Null Count  Dtype \n",
      "---  ------                         --------------  ----- \n",
      " 0   order_id                       99441 non-null  object\n",
      " 1   customer_id                    99441 non-null  object\n",
      " 2   order_status                   99441 non-null  object\n",
      " 3   order_purchase_timestamp       99441 non-null  object\n",
      " 4   order_approved_at              99281 non-null  object\n",
      " 5   order_delivered_carrier_date   97658 non-null  object\n",
      " 6   order_delivered_customer_date  96476 non-null  object\n",
      " 7   order_estimated_delivery_date  99441 non-null  object\n",
      "dtypes: object(8)\n",
      "memory usage: 6.1+ MB\n"
     ]
    },
    {
     "data": {
      "text/html": [
       "<div>\n",
       "<style scoped>\n",
       "    .dataframe tbody tr th:only-of-type {\n",
       "        vertical-align: middle;\n",
       "    }\n",
       "\n",
       "    .dataframe tbody tr th {\n",
       "        vertical-align: top;\n",
       "    }\n",
       "\n",
       "    .dataframe thead th {\n",
       "        text-align: right;\n",
       "    }\n",
       "</style>\n",
       "<table border=\"1\" class=\"dataframe\">\n",
       "  <thead>\n",
       "    <tr style=\"text-align: right;\">\n",
       "      <th></th>\n",
       "      <th>order_id</th>\n",
       "      <th>customer_id</th>\n",
       "      <th>order_status</th>\n",
       "      <th>order_purchase_timestamp</th>\n",
       "      <th>order_approved_at</th>\n",
       "      <th>order_delivered_carrier_date</th>\n",
       "      <th>order_delivered_customer_date</th>\n",
       "      <th>order_estimated_delivery_date</th>\n",
       "    </tr>\n",
       "  </thead>\n",
       "  <tbody>\n",
       "    <tr>\n",
       "      <th>0</th>\n",
       "      <td>e481f51cbdc54678b7cc49136f2d6af7</td>\n",
       "      <td>9ef432eb6251297304e76186b10a928d</td>\n",
       "      <td>delivered</td>\n",
       "      <td>2017-10-02 10:56:33</td>\n",
       "      <td>2017-10-02 11:07:15</td>\n",
       "      <td>2017-10-04 19:55:00</td>\n",
       "      <td>2017-10-10 21:25:13</td>\n",
       "      <td>2017-10-18 00:00:00</td>\n",
       "    </tr>\n",
       "    <tr>\n",
       "      <th>1</th>\n",
       "      <td>53cdb2fc8bc7dce0b6741e2150273451</td>\n",
       "      <td>b0830fb4747a6c6d20dea0b8c802d7ef</td>\n",
       "      <td>delivered</td>\n",
       "      <td>2018-07-24 20:41:37</td>\n",
       "      <td>2018-07-26 03:24:27</td>\n",
       "      <td>2018-07-26 14:31:00</td>\n",
       "      <td>2018-08-07 15:27:45</td>\n",
       "      <td>2018-08-13 00:00:00</td>\n",
       "    </tr>\n",
       "    <tr>\n",
       "      <th>2</th>\n",
       "      <td>47770eb9100c2d0c44946d9cf07ec65d</td>\n",
       "      <td>41ce2a54c0b03bf3443c3d931a367089</td>\n",
       "      <td>delivered</td>\n",
       "      <td>2018-08-08 08:38:49</td>\n",
       "      <td>2018-08-08 08:55:23</td>\n",
       "      <td>2018-08-08 13:50:00</td>\n",
       "      <td>2018-08-17 18:06:29</td>\n",
       "      <td>2018-09-04 00:00:00</td>\n",
       "    </tr>\n",
       "    <tr>\n",
       "      <th>3</th>\n",
       "      <td>949d5b44dbf5de918fe9c16f97b45f8a</td>\n",
       "      <td>f88197465ea7920adcdbec7375364d82</td>\n",
       "      <td>delivered</td>\n",
       "      <td>2017-11-18 19:28:06</td>\n",
       "      <td>2017-11-18 19:45:59</td>\n",
       "      <td>2017-11-22 13:39:59</td>\n",
       "      <td>2017-12-02 00:28:42</td>\n",
       "      <td>2017-12-15 00:00:00</td>\n",
       "    </tr>\n",
       "    <tr>\n",
       "      <th>4</th>\n",
       "      <td>ad21c59c0840e6cb83a9ceb5573f8159</td>\n",
       "      <td>8ab97904e6daea8866dbdbc4fb7aad2c</td>\n",
       "      <td>delivered</td>\n",
       "      <td>2018-02-13 21:18:39</td>\n",
       "      <td>2018-02-13 22:20:29</td>\n",
       "      <td>2018-02-14 19:46:34</td>\n",
       "      <td>2018-02-16 18:17:02</td>\n",
       "      <td>2018-02-26 00:00:00</td>\n",
       "    </tr>\n",
       "  </tbody>\n",
       "</table>\n",
       "</div>"
      ],
      "text/plain": [
       "                           order_id                       customer_id  \\\n",
       "0  e481f51cbdc54678b7cc49136f2d6af7  9ef432eb6251297304e76186b10a928d   \n",
       "1  53cdb2fc8bc7dce0b6741e2150273451  b0830fb4747a6c6d20dea0b8c802d7ef   \n",
       "2  47770eb9100c2d0c44946d9cf07ec65d  41ce2a54c0b03bf3443c3d931a367089   \n",
       "3  949d5b44dbf5de918fe9c16f97b45f8a  f88197465ea7920adcdbec7375364d82   \n",
       "4  ad21c59c0840e6cb83a9ceb5573f8159  8ab97904e6daea8866dbdbc4fb7aad2c   \n",
       "\n",
       "  order_status order_purchase_timestamp    order_approved_at  \\\n",
       "0    delivered      2017-10-02 10:56:33  2017-10-02 11:07:15   \n",
       "1    delivered      2018-07-24 20:41:37  2018-07-26 03:24:27   \n",
       "2    delivered      2018-08-08 08:38:49  2018-08-08 08:55:23   \n",
       "3    delivered      2017-11-18 19:28:06  2017-11-18 19:45:59   \n",
       "4    delivered      2018-02-13 21:18:39  2018-02-13 22:20:29   \n",
       "\n",
       "  order_delivered_carrier_date order_delivered_customer_date  \\\n",
       "0          2017-10-04 19:55:00           2017-10-10 21:25:13   \n",
       "1          2018-07-26 14:31:00           2018-08-07 15:27:45   \n",
       "2          2018-08-08 13:50:00           2018-08-17 18:06:29   \n",
       "3          2017-11-22 13:39:59           2017-12-02 00:28:42   \n",
       "4          2018-02-14 19:46:34           2018-02-16 18:17:02   \n",
       "\n",
       "  order_estimated_delivery_date  \n",
       "0           2017-10-18 00:00:00  \n",
       "1           2018-08-13 00:00:00  \n",
       "2           2018-09-04 00:00:00  \n",
       "3           2017-12-15 00:00:00  \n",
       "4           2018-02-26 00:00:00  "
      ]
     },
     "execution_count": 2,
     "metadata": {},
     "output_type": "execute_result"
    }
   ],
   "source": [
    "orders.info()\n",
    "orders.isna().sum()\n",
    "orders.head()"
   ]
  },
  {
   "cell_type": "markdown",
   "id": "753fc469",
   "metadata": {},
   "source": [
    "### 2. Visualizaciones efectivas (10%)"
   ]
  },
  {
   "cell_type": "markdown",
   "id": "b5bca601",
   "metadata": {},
   "source": [
    "Para facilitar la comprensión de los patrones de comportamiento presentes en el dataset, se generaron diversas visualizaciones que permiten observar tendencias generales y relaciones entre variables. Las gráficas fueron elaboradas utilizando matplotlib y seaborn."
   ]
  },
  {
   "cell_type": "markdown",
   "id": "89e26aef",
   "metadata": {},
   "source": [
    "2.1 Distribución de evaluaciones de los clientes"
   ]
  },
  {
   "cell_type": "code",
   "execution_count": 3,
   "id": "840acf76",
   "metadata": {},
   "outputs": [
    {
     "name": "stderr",
     "output_type": "stream",
     "text": [
      "/var/folders/c4/s77cmlbj0kvc81_ktl3p92vm0000gn/T/ipykernel_30238/2249801283.py:4: FutureWarning: \n",
      "\n",
      "Passing `palette` without assigning `hue` is deprecated and will be removed in v0.14.0. Assign the `x` variable to `hue` and set `legend=False` for the same effect.\n",
      "\n",
      "  sns.countplot(x=\"review_score\", data=reviews, palette=\"viridis\")\n"
     ]
    },
    {
     "data": {
      "image/png": "[encoded data removed]",
      "text/plain": [
       "<Figure size 640x480 with 1 Axes>"
      ]
     },
     "metadata": {},
     "output_type": "display_data"
    }
   ],
   "source": [
    "import seaborn as sns\n",
    "import matplotlib.pyplot as plt\n",
    "\n",
    "sns.countplot(x=\"review_score\", data=reviews, palette=\"viridis\")\n",
    "plt.title(\"Distribución de evaluaciones de los clientes\")\n",
    "plt.xlabel(\"Puntaje de evaluación\")\n",
    "plt.ylabel(\"Cantidad de reseñas\")\n",
    "plt.show()"
   ]
  },
  {
   "cell_type": "markdown",
   "id": "6e0abfc0",
   "metadata": {},
   "source": [
    "La mayoría de los clientes otorgan 5 estrellas, lo que indica una tendencia positiva en las evaluaciones. También se observa un número significativo de evaluaciones con 1 estrella. Los puntajes intermedios (2 y 3) son menos comunes, lo que sugiere que los usuarios solo califican si están muy satisfechos o insatisfechos."
   ]
  },
  {
   "cell_type": "markdown",
   "id": "0ebe68d1",
   "metadata": {},
   "source": [
    " 2.2 Tiempo de entrega real"
   ]
  },
  {
   "cell_type": "code",
   "execution_count": 4,
   "id": "120d090e",
   "metadata": {},
   "outputs": [
    {
     "data": {
      "image/png": "[encoded data removed]",
      "text/plain": [
       "<Figure size 640x480 with 1 Axes>"
      ]
     },
     "metadata": {},
     "output_type": "display_data"
    }
   ],
   "source": [
    "orders[\"order_purchase_timestamp\"] = pd.to_datetime(orders[\"order_purchase_timestamp\"])\n",
    "orders[\"order_delivered_customer_date\"] = pd.to_datetime(orders[\"order_delivered_customer_date\"])\n",
    "orders[\"delivery_time_days\"] = (orders[\"order_delivered_customer_date\"] - orders[\"order_purchase_timestamp\"]).dt.days\n",
    "\n",
    "sns.histplot(data=orders, x=\"delivery_time_days\", bins=30, kde=True)\n",
    "plt.title(\"Distribución del tiempo de entrega (en días)\")\n",
    "plt.xlabel(\"Días\")\n",
    "plt.ylabel(\"Frecuencia\")\n",
    "plt.show()"
   ]
  },
  {
   "cell_type": "markdown",
   "id": "4aa18a56",
   "metadata": {},
   "source": [
    "El tiempo promedio de entrega es de aproximadamente 10 días. La mayoría de los pedidos se entregan entre 0 y 20 días, pero hay varios casos atípicos con entregas superiores a 100 días. La distribución está sesgada a la derecha.\n"
   ]
  },
  {
   "cell_type": "markdown",
   "id": "e7e5e066",
   "metadata": {},
   "source": [
    "2.3 Top 10 ciudades con más compras"
   ]
  },
  {
   "cell_type": "code",
   "execution_count": 5,
   "id": "28654ae9",
   "metadata": {},
   "outputs": [
    {
     "data": {
      "image/png": "[encoded data removed]",
      "text/plain": [
       "<Figure size 640x480 with 1 Axes>"
      ]
     },
     "metadata": {},
     "output_type": "display_data"
    }
   ],
   "source": [
    "top_cities = customers[\"customer_city\"].value_counts().head(10)\n",
    "top_cities.plot(kind='bar', color='skyblue')\n",
    "plt.title(\"Top 10 ciudades con más clientes\")\n",
    "plt.ylabel(\"Cantidad de clientes\")\n",
    "plt.xticks(rotation=45)\n",
    "plt.show()"
   ]
  },
  {
   "cell_type": "markdown",
   "id": "3ac084ce",
   "metadata": {},
   "source": [
    "São Paulo lidera con diferencia la cantidad de clientes, seguida por Rio de Janeiro y Belo Horizonte. Estas ciudades representan la mayor parte de la actividad comercial del dataset, lo que indica una concentración urbana en el uso de la plataforma.\n",
    "\n"
   ]
  },
  {
   "cell_type": "markdown",
   "id": "28524d79",
   "metadata": {},
   "source": [
    "### 3. Análisis estadístico (15%)"
   ]
  },
  {
   "cell_type": "markdown",
   "id": "4ef6d601",
   "metadata": {},
   "source": [
    "Se mostrará la media, desviación estándar, mínimo, máximo y percentiles de los días que tarda en entregarse un pedido. \n",
    "Es este caso es útil para entender el comportamiento general de la logística.\n"
   ]
  },
  {
   "cell_type": "markdown",
   "id": "df277ffb",
   "metadata": {},
   "source": [
    "3.1 Estadísticas descriptivas del tiempo de entrega"
   ]
  },
  {
   "cell_type": "code",
   "execution_count": 6,
   "id": "6e799fe9",
   "metadata": {},
   "outputs": [
    {
     "data": {
      "text/plain": [
       "order_approved_at                        object\n",
       "order_delivered_carrier_date             object\n",
       "order_delivered_customer_date    datetime64[ns]\n",
       "order_estimated_delivery_date            object\n",
       "dtype: object"
      ]
     },
     "execution_count": 6,
     "metadata": {},
     "output_type": "execute_result"
    }
   ],
   "source": [
    "orders[[\n",
    "    \"order_approved_at\", \n",
    "    \"order_delivered_carrier_date\", \n",
    "    \"order_delivered_customer_date\", \n",
    "    \"order_estimated_delivery_date\"\n",
    "]].dtypes\n"
   ]
  },
  {
   "cell_type": "markdown",
   "id": "5a501ee4",
   "metadata": {},
   "source": [
    "El tiempo promedio de entrega fue de 12.09 días, con una mediana de 10 días. La mayoría de las entregas se realizaron entre 6 y 15 días. El valor máximo registrado fue de 209 días, lo que indica la presencia de valores extremos o atípicos."
   ]
  },
  {
   "cell_type": "markdown",
   "id": "05b85fd4",
   "metadata": {},
   "source": [
    "3.2 Matriz de correlación entre variables numéricas"
   ]
  },
  {
   "cell_type": "code",
   "execution_count": 7,
   "id": "a722ef2f",
   "metadata": {},
   "outputs": [
    {
     "data": {
      "image/png": "[encoded data removed]",
      "text/plain": [
       "<Figure size 800x600 with 2 Axes>"
      ]
     },
     "metadata": {},
     "output_type": "display_data"
    }
   ],
   "source": [
    "import pandas as pd\n",
    "\n",
    "orders[\"order_purchase_timestamp\"] = pd.to_datetime(orders[\"order_purchase_timestamp\"])\n",
    "orders[\"order_delivered_customer_date\"] = pd.to_datetime(orders[\"order_delivered_customer_date\"])\n",
    "orders[\"order_estimated_delivery_date\"] = pd.to_datetime(orders[\"order_estimated_delivery_date\"])\n",
    "\n",
    "orders[\"delivery_time_days\"] = (orders[\"order_delivered_customer_date\"] - orders[\"order_purchase_timestamp\"]).dt.days\n",
    "orders[\"delay_vs_estimate\"] = (orders[\"order_delivered_customer_date\"] - orders[\"order_estimated_delivery_date\"]).dt.days\n",
    "orders[\"estimated_days\"] = (orders[\"order_estimated_delivery_date\"] - orders[\"order_purchase_timestamp\"]).dt.days\n",
    "\n",
    "numeric_cols = orders[[\"delivery_time_days\", \"delay_vs_estimate\", \"estimated_days\"]]\n",
    "\n",
    "import seaborn as sns\n",
    "import matplotlib.pyplot as plt\n",
    "\n",
    "plt.figure(figsize=(8, 6))\n",
    "sns.heatmap(numeric_cols.corr(), annot=True, cmap=\"coolwarm\", linewidths=0.5)\n",
    "plt.title(\"Matriz de correlación entre variables numéricas\")\n",
    "plt.show()\n",
    "\n"
   ]
  },
  {
   "cell_type": "markdown",
   "id": "f2d3e75a",
   "metadata": {},
   "source": [
    " - 'delivery_time_days' y 'delay_vs_estimate' tienen una correlación positiva de 0.61, lo que indica que mientras más se retrasa la entrega respecto al estimado, mayor es el tiempo total de entrega.\n",
    "\n",
    " - 'delay_vs_estimate' y 'estimated_days' tienen una correlación negativa de -0.50, lo que sugiere que cuando los tiempos estimados son más largos, el retraso tiende a ser menor.\n",
    "\n",
    " - 'delivery_time_days' y 'estimated_days' tienen una correlación moderada (0.38), indicando una relación débil pero positiva."
   ]
  },
  {
   "cell_type": "markdown",
   "id": "2fe9b698",
   "metadata": {},
   "source": [
    "## C. Dataset preprocesado (30%)"
   ]
  },
  {
   "cell_type": "markdown",
   "id": "7eb6ae54",
   "metadata": {},
   "source": [
    " ### 1. Limpieza de datos (15%)"
   ]
  },
  {
   "cell_type": "markdown",
   "id": "05de6f11",
   "metadata": {},
   "source": [
    "Antes de aplicar cualquier modelo predictivo, es necesario asegurar la calidad del conjunto de datos. Se realizó una limpieza básica para eliminar valores nulos relevantes, especialmente en fechas necesarias para el cálculo del tiempo de entrega, y se eliminaron registros con inconsistencias evidentes. También se filtraron aquellas filas donde no hay evidencia de que el pedido haya sido entregado, lo cual es crucial para calcular las métricas logísticas.\n"
   ]
  },
  {
   "cell_type": "code",
   "execution_count": 8,
   "id": "0be6e052",
   "metadata": {},
   "outputs": [
    {
     "data": {
      "text/plain": [
       "order_id                          0\n",
       "customer_id                       0\n",
       "order_status                      0\n",
       "order_purchase_timestamp          0\n",
       "order_approved_at                14\n",
       "order_delivered_carrier_date      1\n",
       "order_delivered_customer_date     0\n",
       "order_estimated_delivery_date     0\n",
       "delivery_time_days                0\n",
       "delay_vs_estimate                 0\n",
       "estimated_days                    0\n",
       "dtype: int64"
      ]
     },
     "execution_count": 8,
     "metadata": {},
     "output_type": "execute_result"
    }
   ],
   "source": [
    "orders_clean = orders.copy()\n",
    "\n",
    "orders_clean = orders_clean.dropna(subset=[\n",
    "    \"order_purchase_timestamp\",\n",
    "    \"order_delivered_customer_date\",\n",
    "    \"order_estimated_delivery_date\"\n",
    "])\n",
    "\n",
    "orders_clean.reset_index(drop=True, inplace=True)\n",
    "\n",
    "orders_clean.isna().sum()\n"
   ]
  },
  {
   "cell_type": "markdown",
   "id": "1188eb26",
   "metadata": {},
   "source": [
    "Se eliminaron registros con valores nulos en las columnas clave relacionadas a fechas: \n",
    " - order_purchase_timestamp, \n",
    " - order_delivered_customer_date\n",
    " - order_estimated_delivery_date. \n",
    "\n",
    "Esto garantizó que todas las observaciones incluyeran información válida para calcular tiempos de entrega. El dataset resultante contiene 96,476 registros limpios."
   ]
  },
  {
   "cell_type": "markdown",
   "id": "784bd03f",
   "metadata": {},
   "source": [
    " ### 2. Transformación de variables (15%)"
   ]
  },
  {
   "cell_type": "markdown",
   "id": "c5167e19",
   "metadata": {},
   "source": [
    "Para preparar los datos para el modelado, se generaron variables nuevas a partir de las fechas originales. Estas variables reflejan comportamientos temporales clave, como el tiempo real de entrega, el retraso respecto a la fecha estimada y el número de días previstos en el momento de la compra. Además, se transformaron las fechas a componentes como año y mes, lo cual permitirá analizar estacionalidad y tendencias."
   ]
  },
  {
   "cell_type": "code",
   "execution_count": 9,
   "id": "874816e4",
   "metadata": {},
   "outputs": [
    {
     "data": {
      "text/html": [
       "<div>\n",
       "<style scoped>\n",
       "    .dataframe tbody tr th:only-of-type {\n",
       "        vertical-align: middle;\n",
       "    }\n",
       "\n",
       "    .dataframe tbody tr th {\n",
       "        vertical-align: top;\n",
       "    }\n",
       "\n",
       "    .dataframe thead th {\n",
       "        text-align: right;\n",
       "    }\n",
       "</style>\n",
       "<table border=\"1\" class=\"dataframe\">\n",
       "  <thead>\n",
       "    <tr style=\"text-align: right;\">\n",
       "      <th></th>\n",
       "      <th>delivery_time_days</th>\n",
       "      <th>delay_vs_estimate</th>\n",
       "      <th>estimated_days</th>\n",
       "      <th>purchase_year</th>\n",
       "      <th>purchase_month</th>\n",
       "      <th>purchase_day</th>\n",
       "    </tr>\n",
       "  </thead>\n",
       "  <tbody>\n",
       "    <tr>\n",
       "      <th>count</th>\n",
       "      <td>96476.000000</td>\n",
       "      <td>96476.000000</td>\n",
       "      <td>96476.000000</td>\n",
       "      <td>96476.000000</td>\n",
       "      <td>96476.000000</td>\n",
       "      <td>96476.000000</td>\n",
       "    </tr>\n",
       "    <tr>\n",
       "      <th>mean</th>\n",
       "      <td>12.094086</td>\n",
       "      <td>-11.876881</td>\n",
       "      <td>23.374228</td>\n",
       "      <td>2017.544239</td>\n",
       "      <td>6.031210</td>\n",
       "      <td>2.756540</td>\n",
       "    </tr>\n",
       "    <tr>\n",
       "      <th>std</th>\n",
       "      <td>9.551746</td>\n",
       "      <td>10.183854</td>\n",
       "      <td>8.760830</td>\n",
       "      <td>0.503671</td>\n",
       "      <td>3.228532</td>\n",
       "      <td>1.967093</td>\n",
       "    </tr>\n",
       "    <tr>\n",
       "      <th>min</th>\n",
       "      <td>0.000000</td>\n",
       "      <td>-147.000000</td>\n",
       "      <td>2.000000</td>\n",
       "      <td>2016.000000</td>\n",
       "      <td>1.000000</td>\n",
       "      <td>0.000000</td>\n",
       "    </tr>\n",
       "    <tr>\n",
       "      <th>25%</th>\n",
       "      <td>6.000000</td>\n",
       "      <td>-17.000000</td>\n",
       "      <td>18.000000</td>\n",
       "      <td>2017.000000</td>\n",
       "      <td>3.000000</td>\n",
       "      <td>1.000000</td>\n",
       "    </tr>\n",
       "    <tr>\n",
       "      <th>50%</th>\n",
       "      <td>10.000000</td>\n",
       "      <td>-12.000000</td>\n",
       "      <td>23.000000</td>\n",
       "      <td>2018.000000</td>\n",
       "      <td>6.000000</td>\n",
       "      <td>3.000000</td>\n",
       "    </tr>\n",
       "    <tr>\n",
       "      <th>75%</th>\n",
       "      <td>15.000000</td>\n",
       "      <td>-7.000000</td>\n",
       "      <td>28.000000</td>\n",
       "      <td>2018.000000</td>\n",
       "      <td>8.000000</td>\n",
       "      <td>4.000000</td>\n",
       "    </tr>\n",
       "    <tr>\n",
       "      <th>max</th>\n",
       "      <td>209.000000</td>\n",
       "      <td>188.000000</td>\n",
       "      <td>155.000000</td>\n",
       "      <td>2018.000000</td>\n",
       "      <td>12.000000</td>\n",
       "      <td>6.000000</td>\n",
       "    </tr>\n",
       "  </tbody>\n",
       "</table>\n",
       "</div>"
      ],
      "text/plain": [
       "       delivery_time_days  delay_vs_estimate  estimated_days  purchase_year  \\\n",
       "count        96476.000000       96476.000000    96476.000000   96476.000000   \n",
       "mean            12.094086         -11.876881       23.374228    2017.544239   \n",
       "std              9.551746          10.183854        8.760830       0.503671   \n",
       "min              0.000000        -147.000000        2.000000    2016.000000   \n",
       "25%              6.000000         -17.000000       18.000000    2017.000000   \n",
       "50%             10.000000         -12.000000       23.000000    2018.000000   \n",
       "75%             15.000000          -7.000000       28.000000    2018.000000   \n",
       "max            209.000000         188.000000      155.000000    2018.000000   \n",
       "\n",
       "       purchase_month  purchase_day  \n",
       "count    96476.000000  96476.000000  \n",
       "mean         6.031210      2.756540  \n",
       "std          3.228532      1.967093  \n",
       "min          1.000000      0.000000  \n",
       "25%          3.000000      1.000000  \n",
       "50%          6.000000      3.000000  \n",
       "75%          8.000000      4.000000  \n",
       "max         12.000000      6.000000  "
      ]
     },
     "execution_count": 9,
     "metadata": {},
     "output_type": "execute_result"
    }
   ],
   "source": [
    "orders_clean[\"order_purchase_timestamp\"] = pd.to_datetime(orders_clean[\"order_purchase_timestamp\"])\n",
    "orders_clean[\"order_delivered_customer_date\"] = pd.to_datetime(orders_clean[\"order_delivered_customer_date\"])\n",
    "orders_clean[\"order_estimated_delivery_date\"] = pd.to_datetime(orders_clean[\"order_estimated_delivery_date\"])\n",
    "\n",
    "orders_clean[\"delivery_time_days\"] = (orders_clean[\"order_delivered_customer_date\"] - orders_clean[\"order_purchase_timestamp\"]).dt.days\n",
    "orders_clean[\"delay_vs_estimate\"] = (orders_clean[\"order_delivered_customer_date\"] - orders_clean[\"order_estimated_delivery_date\"]).dt.days\n",
    "orders_clean[\"estimated_days\"] = (orders_clean[\"order_estimated_delivery_date\"] - orders_clean[\"order_purchase_timestamp\"]).dt.days\n",
    "\n",
    "orders_clean[\"purchase_year\"] = orders_clean[\"order_purchase_timestamp\"].dt.year\n",
    "orders_clean[\"purchase_month\"] = orders_clean[\"order_purchase_timestamp\"].dt.month\n",
    "orders_clean[\"purchase_day\"] = orders_clean[\"order_purchase_timestamp\"].dt.dayofweek  # 0 = lunes\n",
    "\n",
    "orders_clean[[\n",
    "    \"delivery_time_days\", \n",
    "    \"delay_vs_estimate\", \n",
    "    \"estimated_days\", \n",
    "    \"purchase_year\", \n",
    "    \"purchase_month\", \n",
    "    \"purchase_day\"\n",
    "]].describe()\n"
   ]
  },
  {
   "cell_type": "markdown",
   "id": "be81caf9",
   "metadata": {},
   "source": [
    "Se crearon tres variables nuevas a partir de diferencias entre fechas:\n",
    " - delivery_time_days (tiempo real de entrega)\n",
    " - delay_vs_estimate (retraso respecto al estimado)\n",
    " - estimated_days (tiempo previsto al momento de la compra)\n",
    "\n",
    "Además, se descompusieron las fechas en componentes temporales (    purchase_year, purchase_month, purchase_day) para facilitar futuros análisis de estacionalidad. Los datos transformados fueron exportados como olist_orders_preprocesado.csv."
   ]
  },
  {
   "cell_type": "markdown",
   "id": "984dac26",
   "metadata": {},
   "source": [
    "Durante el proceso de preprocesamiento del dataset, se consideró la creación de nuevas variables derivadas a partir de las fechas existentes. Estas transformaciones permiten capturar información clave sobre la logística de los pedidos, la cual no está explícitamente reflejada en las columnas originales:\n",
    "\n",
    "1. delivery_time_days – Tiempo real de entrega\n",
    "Esta variable representa el número de días transcurridos desde que el cliente realizó la compra (order_purchase_timestamp) hasta que recibió el producto (order_delivered_customer_date). \n",
    "Esta información será útil más adelante para construir modelos de regresión que predigan cuánto tarda en llegar un pedido.\n",
    "\n",
    "2. delay_vs_estimate – Retraso respecto al estimado\n",
    "Esta variable se obtuvo calculando la diferencia entre la fecha en la que realmente fue entregado el pedido y la fecha en la que originalmente se estimó que llegaría (order_estimated_delivery_date). Un valor positivo indica que el pedido llegó con retraso, mientras que un valor negativo indica que llegó antes de lo esperado. Esta información es especialmente útil para analizar la confiabilidad de las promesas de entrega de la empresa, y puede usarse en modelos de clasificación para predecir si un pedido será puntual o no.\n",
    "\n",
    "3. estimated_days – Tiempo estimado de entrega al momento de la compra\n",
    "Esta variable refleja cuántos días, desde la fecha de compra, se estimó que tomaría entregar el producto. \n",
    "Se calculó como la diferencia entre la fecha estimada de entrega y la fecha de compra. \n",
    "Permite entender las expectativas generadas al cliente y permite estudiar si los retrasos están más relacionados con promesas demasiado optimistas o con problemas operativos posteriores."
   ]
  },
  {
   "cell_type": "markdown",
   "id": "02be876d",
   "metadata": {},
   "source": [
    "NOTA: Exportación del dataset limpio\n"
   ]
  },
  {
   "cell_type": "code",
   "execution_count": 10,
   "id": "b624f616",
   "metadata": {},
   "outputs": [],
   "source": [
    "orders_clean.to_csv(\"data_limpia/olist_orders_preprocesado.csv\", index=False)"
   ]
  },
  {
   "cell_type": "code",
   "execution_count": 11,
   "id": "2e4d5067",
   "metadata": {},
   "outputs": [
    {
     "data": {
      "text/html": [
       "<div>\n",
       "<style scoped>\n",
       "    .dataframe tbody tr th:only-of-type {\n",
       "        vertical-align: middle;\n",
       "    }\n",
       "\n",
       "    .dataframe tbody tr th {\n",
       "        vertical-align: top;\n",
       "    }\n",
       "\n",
       "    .dataframe thead th {\n",
       "        text-align: right;\n",
       "    }\n",
       "</style>\n",
       "<table border=\"1\" class=\"dataframe\">\n",
       "  <thead>\n",
       "    <tr style=\"text-align: right;\">\n",
       "      <th></th>\n",
       "      <th>order_id</th>\n",
       "      <th>customer_id</th>\n",
       "      <th>order_status</th>\n",
       "      <th>order_purchase_timestamp</th>\n",
       "      <th>order_approved_at</th>\n",
       "      <th>order_delivered_carrier_date</th>\n",
       "      <th>order_delivered_customer_date</th>\n",
       "      <th>order_estimated_delivery_date</th>\n",
       "      <th>delivery_time_days</th>\n",
       "      <th>delay_vs_estimate</th>\n",
       "      <th>estimated_days</th>\n",
       "      <th>purchase_year</th>\n",
       "      <th>purchase_month</th>\n",
       "      <th>purchase_day</th>\n",
       "    </tr>\n",
       "  </thead>\n",
       "  <tbody>\n",
       "    <tr>\n",
       "      <th>0</th>\n",
       "      <td>e481f51cbdc54678b7cc49136f2d6af7</td>\n",
       "      <td>9ef432eb6251297304e76186b10a928d</td>\n",
       "      <td>delivered</td>\n",
       "      <td>2017-10-02 10:56:33</td>\n",
       "      <td>2017-10-02 11:07:15</td>\n",
       "      <td>2017-10-04 19:55:00</td>\n",
       "      <td>2017-10-10 21:25:13</td>\n",
       "      <td>2017-10-18</td>\n",
       "      <td>8</td>\n",
       "      <td>-8</td>\n",
       "      <td>15</td>\n",
       "      <td>2017</td>\n",
       "      <td>10</td>\n",
       "      <td>0</td>\n",
       "    </tr>\n",
       "    <tr>\n",
       "      <th>1</th>\n",
       "      <td>53cdb2fc8bc7dce0b6741e2150273451</td>\n",
       "      <td>b0830fb4747a6c6d20dea0b8c802d7ef</td>\n",
       "      <td>delivered</td>\n",
       "      <td>2018-07-24 20:41:37</td>\n",
       "      <td>2018-07-26 03:24:27</td>\n",
       "      <td>2018-07-26 14:31:00</td>\n",
       "      <td>2018-08-07 15:27:45</td>\n",
       "      <td>2018-08-13</td>\n",
       "      <td>13</td>\n",
       "      <td>-6</td>\n",
       "      <td>19</td>\n",
       "      <td>2018</td>\n",
       "      <td>7</td>\n",
       "      <td>1</td>\n",
       "    </tr>\n",
       "    <tr>\n",
       "      <th>2</th>\n",
       "      <td>47770eb9100c2d0c44946d9cf07ec65d</td>\n",
       "      <td>41ce2a54c0b03bf3443c3d931a367089</td>\n",
       "      <td>delivered</td>\n",
       "      <td>2018-08-08 08:38:49</td>\n",
       "      <td>2018-08-08 08:55:23</td>\n",
       "      <td>2018-08-08 13:50:00</td>\n",
       "      <td>2018-08-17 18:06:29</td>\n",
       "      <td>2018-09-04</td>\n",
       "      <td>9</td>\n",
       "      <td>-18</td>\n",
       "      <td>26</td>\n",
       "      <td>2018</td>\n",
       "      <td>8</td>\n",
       "      <td>2</td>\n",
       "    </tr>\n",
       "    <tr>\n",
       "      <th>3</th>\n",
       "      <td>949d5b44dbf5de918fe9c16f97b45f8a</td>\n",
       "      <td>f88197465ea7920adcdbec7375364d82</td>\n",
       "      <td>delivered</td>\n",
       "      <td>2017-11-18 19:28:06</td>\n",
       "      <td>2017-11-18 19:45:59</td>\n",
       "      <td>2017-11-22 13:39:59</td>\n",
       "      <td>2017-12-02 00:28:42</td>\n",
       "      <td>2017-12-15</td>\n",
       "      <td>13</td>\n",
       "      <td>-13</td>\n",
       "      <td>26</td>\n",
       "      <td>2017</td>\n",
       "      <td>11</td>\n",
       "      <td>5</td>\n",
       "    </tr>\n",
       "    <tr>\n",
       "      <th>4</th>\n",
       "      <td>ad21c59c0840e6cb83a9ceb5573f8159</td>\n",
       "      <td>8ab97904e6daea8866dbdbc4fb7aad2c</td>\n",
       "      <td>delivered</td>\n",
       "      <td>2018-02-13 21:18:39</td>\n",
       "      <td>2018-02-13 22:20:29</td>\n",
       "      <td>2018-02-14 19:46:34</td>\n",
       "      <td>2018-02-16 18:17:02</td>\n",
       "      <td>2018-02-26</td>\n",
       "      <td>2</td>\n",
       "      <td>-10</td>\n",
       "      <td>12</td>\n",
       "      <td>2018</td>\n",
       "      <td>2</td>\n",
       "      <td>1</td>\n",
       "    </tr>\n",
       "  </tbody>\n",
       "</table>\n",
       "</div>"
      ],
      "text/plain": [
       "                           order_id                       customer_id  \\\n",
       "0  e481f51cbdc54678b7cc49136f2d6af7  9ef432eb6251297304e76186b10a928d   \n",
       "1  53cdb2fc8bc7dce0b6741e2150273451  b0830fb4747a6c6d20dea0b8c802d7ef   \n",
       "2  47770eb9100c2d0c44946d9cf07ec65d  41ce2a54c0b03bf3443c3d931a367089   \n",
       "3  949d5b44dbf5de918fe9c16f97b45f8a  f88197465ea7920adcdbec7375364d82   \n",
       "4  ad21c59c0840e6cb83a9ceb5573f8159  8ab97904e6daea8866dbdbc4fb7aad2c   \n",
       "\n",
       "  order_status order_purchase_timestamp    order_approved_at  \\\n",
       "0    delivered      2017-10-02 10:56:33  2017-10-02 11:07:15   \n",
       "1    delivered      2018-07-24 20:41:37  2018-07-26 03:24:27   \n",
       "2    delivered      2018-08-08 08:38:49  2018-08-08 08:55:23   \n",
       "3    delivered      2017-11-18 19:28:06  2017-11-18 19:45:59   \n",
       "4    delivered      2018-02-13 21:18:39  2018-02-13 22:20:29   \n",
       "\n",
       "  order_delivered_carrier_date order_delivered_customer_date  \\\n",
       "0          2017-10-04 19:55:00           2017-10-10 21:25:13   \n",
       "1          2018-07-26 14:31:00           2018-08-07 15:27:45   \n",
       "2          2018-08-08 13:50:00           2018-08-17 18:06:29   \n",
       "3          2017-11-22 13:39:59           2017-12-02 00:28:42   \n",
       "4          2018-02-14 19:46:34           2018-02-16 18:17:02   \n",
       "\n",
       "  order_estimated_delivery_date  delivery_time_days  delay_vs_estimate  \\\n",
       "0                    2017-10-18                   8                 -8   \n",
       "1                    2018-08-13                  13                 -6   \n",
       "2                    2018-09-04                   9                -18   \n",
       "3                    2017-12-15                  13                -13   \n",
       "4                    2018-02-26                   2                -10   \n",
       "\n",
       "   estimated_days  purchase_year  purchase_month  purchase_day  \n",
       "0              15           2017              10             0  \n",
       "1              19           2018               7             1  \n",
       "2              26           2018               8             2  \n",
       "3              26           2017              11             5  \n",
       "4              12           2018               2             1  "
      ]
     },
     "execution_count": 11,
     "metadata": {},
     "output_type": "execute_result"
    }
   ],
   "source": [
    "orders_clean = pd.read_csv(\"data_limpia/olist_orders_preprocesado.csv\")\n",
    "\n",
    "orders_clean.head()"
   ]
  },
  {
   "cell_type": "markdown",
   "id": "c1785e54",
   "metadata": {},
   "source": [
    "El archivo \"olist_orders_preprocesado.csv\" representa el dataset limpio y transformado resultante del análisis exploratorio y del preprocesamiento."
   ]
  }
 ],
 "metadata": {
  "kernelspec": {
   "display_name": "base",
   "language": "python",
   "name": "python3"
  },
  "language_info": {
   "codemirror_mode": {
    "name": "ipython",
    "version": 3
   },
   "file_extension": ".py",
   "mimetype": "text/x-python",
   "name": "python",
   "nbconvert_exporter": "python",
   "pygments_lexer": "ipython3",
   "version": "3.11.8"
  }
 },
 "nbformat": 4,
 "nbformat_minor": 5
}
